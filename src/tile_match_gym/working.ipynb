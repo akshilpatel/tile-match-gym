{
 "cells": [
  {
   "cell_type": "code",
   "execution_count": 2,
   "metadata": {},
   "outputs": [],
   "source": [
    "from tile_match_gym.board import Board\n",
    "from copy import deepcopy\n",
    "import numpy as np\n",
    "from itertools import product\n",
    "from multiprocessing import Pool"
   ]
  },
  {
   "cell_type": "code",
   "execution_count": 62,
   "metadata": {},
   "outputs": [],
   "source": [
    "x = product([1, 2, 3], repeat=16)\n",
    "x = list(x)\n",
    "\n"
   ]
  },
  {
   "cell_type": "code",
   "execution_count": 63,
   "metadata": {},
   "outputs": [
    {
     "data": {
      "text/plain": [
       "43046721"
      ]
     },
     "execution_count": 63,
     "metadata": {},
     "output_type": "execute_result"
    }
   ],
   "source": [
    "len(x)"
   ]
  },
  {
   "cell_type": "code",
   "execution_count": 64,
   "metadata": {},
   "outputs": [],
   "source": [
    "def process_combination(combination):\n",
    "    count_s, count_s_, count_m = 0, 0, 0\n",
    "    b = Board(4, 4, 3,[], [])\n",
    "    b.board = np.array(combination).reshape(4, 4)\n",
    "    no_poss_move = not b.possible_move()\n",
    "    has_match = len(b.get_colour_lines()) > 0\n",
    "    if has_match or no_poss_move:\n",
    "        count_s = 1\n",
    "    if not has_match and no_poss_move:\n",
    "        count_s_= 1\n",
    "    if has_match:\n",
    "        count_m = 1\n",
    "\n",
    "    return count_s, count_s_, count_m"
   ]
  },
  {
   "cell_type": "code",
   "execution_count": 65,
   "metadata": {},
   "outputs": [
    {
     "name": "stdout",
     "output_type": "stream",
     "text": [
      "8426718 57420 34562583\n"
     ]
    }
   ],
   "source": [
    "num_invalid_s, num_valid_states_no_move, num_states_w_move_and_match = 0, 0, 0\n",
    "with Pool() as pool:\n",
    "    results = pool.map(process_combination, x)\n",
    "\n",
    "    # Aggregate results from parallel processes\n",
    "\n",
    "    for result in results:\n",
    "        num_invalid_s += result[0]\n",
    "        num_valid_states_no_move += result[1]\n",
    "        num_states_w_move_and_match += result[2]\n",
    "\n",
    "print(len(x) - num_invalid_s, num_valid_states_no_move, num_states_w_move_and_match)"
   ]
  },
  {
   "cell_type": "code",
   "execution_count": 45,
   "metadata": {},
   "outputs": [
    {
     "data": {
      "text/plain": [
       "531441"
      ]
     },
     "execution_count": 45,
     "metadata": {},
     "output_type": "execute_result"
    }
   ],
   "source": [
    "len(x)"
   ]
  },
  {
   "cell_type": "code",
   "execution_count": 41,
   "metadata": {},
   "outputs": [
    {
     "data": {
      "text/plain": [
       "13303"
      ]
     },
     "execution_count": 41,
     "metadata": {},
     "output_type": "execute_result"
    }
   ],
   "source": [
    "count_s"
   ]
  },
  {
   "cell_type": "code",
   "execution_count": 33,
   "metadata": {},
   "outputs": [
    {
     "data": {
      "text/plain": [
       "6377"
      ]
     },
     "execution_count": 33,
     "metadata": {},
     "output_type": "execute_result"
    }
   ],
   "source": [
    "count_s_"
   ]
  },
  {
   "cell_type": "code",
   "execution_count": 34,
   "metadata": {},
   "outputs": [
    {
     "data": {
      "text/plain": [
       "2458"
      ]
     },
     "execution_count": 34,
     "metadata": {},
     "output_type": "execute_result"
    }
   ],
   "source": [
    "count_m"
   ]
  },
  {
   "cell_type": "code",
   "execution_count": 20,
   "metadata": {},
   "outputs": [
    {
     "data": {
      "text/plain": [
       "6380"
      ]
     },
     "execution_count": 20,
     "metadata": {},
     "output_type": "execute_result"
    }
   ],
   "source": [
    "count_poss"
   ]
  },
  {
   "cell_type": "code",
   "execution_count": 21,
   "metadata": {},
   "outputs": [],
   "source": [
    "for i, combination in enumerate(x):\n",
    "    b = Board(3, 3, 3, [\"vertical_laser\"], [])\n",
    "    b.board = np.array(combination).reshape(3,3)\n",
    "    no_poss_move = not b.possible_move()\n",
    "    has_match = len(b.get_colour_lines()) > 0\n",
    "    if has_match or no_poss_move:\n",
    "        count_tot -= 1\n",
    "    if has_match:\n",
    "        count_m += 1\n",
    "    if not no_poss_move:\n",
    "        count_poss += 1\n",
    "\n",
    "    # if i % 1000 == 1:\n",
    "    #     print(i, count_m / i, count_poss / i, count_tot, b.board)\n",
    "\n",
    "    \n",
    "        \n",
    "\n",
    "\n",
    "    "
   ]
  },
  {
   "cell_type": "code",
   "execution_count": 7,
   "metadata": {},
   "outputs": [
    {
     "data": {
      "text/plain": [
       "10077696"
      ]
     },
     "execution_count": 7,
     "metadata": {},
     "output_type": "execute_result"
    }
   ],
   "source": [
    "valid_arr"
   ]
  },
  {
   "cell_type": "code",
   "execution_count": null,
   "metadata": {},
   "outputs": [],
   "source": [
    "\n",
    "board = Board(10, 10, 5)  # cookie , and vertical laser, horizontal laser, bomb\n",
    "board.board = np.array([[4, 4, 5, 4, 2, 2, 6, 6, 3, 3],\n",
    "                        [3, 6, 3, 6, 3, 4, 5, 4, 2, 2],\n",
    "                        [6, 5, 6, 4, 6, 3, 4, 5, 2, 3],\n",
    "                        [2, 4, 6, 2, 3, 4, 6, 3, 4, 3],\n",
    "                        [2, 5, 2, 3, 4, 4, 2, 6, 5, 6],\n",
    "                        [4, 5, 3, 4, 6, 3, 5, 2, 5, 6],\n",
    "                        [4, 4, 3, 2, 4, 5, 4, 5, 3, 5],\n",
    "                        [5, 6, 4, 2, 5, 4, 6, 4, 3, 2],\n",
    "                        [4, 5, 5, 6, 3, 4, 6, 3, 5, 6],\n",
    "                        [4, 4, 5, 4, 6, 5, 2, 2, 4, 6]])\n",
    "\n",
    "old_board = deepcopy(board.board)\n",
    "assert board.check_move_validity((1,1), (1, 2))\n",
    "assert board.check_move_validity((1,1), (2, 1))\n",
    "assert np.array_equal(board.board, old_board)"
   ]
  }
 ],
 "metadata": {
  "kernelspec": {
   "display_name": "venv",
   "language": "python",
   "name": "python3"
  },
  "language_info": {
   "codemirror_mode": {
    "name": "ipython",
    "version": 3
   },
   "file_extension": ".py",
   "mimetype": "text/x-python",
   "name": "python",
   "nbconvert_exporter": "python",
   "pygments_lexer": "ipython3",
   "version": "3.10.12"
  },
  "orig_nbformat": 4,
  "vscode": {
   "interpreter": {
    "hash": "acec314c2cac18a708074281f4b8a3eae7149b282c3c19c28090d8a8e9c34189"
   }
  }
 },
 "nbformat": 4,
 "nbformat_minor": 2
}
