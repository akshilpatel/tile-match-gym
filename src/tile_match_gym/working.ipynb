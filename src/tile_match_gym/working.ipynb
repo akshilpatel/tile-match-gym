{
 "cells": [
  {
   "cell_type": "code",
   "execution_count": 1,
   "metadata": {},
   "outputs": [],
   "source": [
    "from tile_match_gym.board import Board\n",
    "from copy import deepcopy\n",
    "import numpy as np\n",
    "from itertools import product\n",
    "from multiprocessing import Pool"
   ]
  },
  {
   "cell_type": "code",
   "execution_count": 2,
   "metadata": {},
   "outputs": [],
   "source": [
    "import numpy as np\n",
    "from tile_match_gym.board import Board\n",
    "from typing import List, Tuple\n",
    "from copy import deepcopy\n",
    "\n",
    "\n",
    "# create an array of alternating 2's and 3's\n",
    "def create_alternating_array(height: int, width: int) -> np.ndarray:\n",
    "    arr = np.ones((2, height, width), dtype=int)\n",
    "    for i in range(height):\n",
    "        for j in range(width):\n",
    "            arr[0, i, j] = 2 - int((i % 2) == (j % 2))\n",
    "    return arr \n",
    "\n",
    "\n",
    "def create_board_from_array(arr: np.ndarray, num_colours=4) -> Board:\n",
    "    \n",
    "    height, width, _ = arr.shape\n",
    "    seed = 1\n",
    "    board = Board(height, width, num_colours, [\"cookie\"], [\"vertical_laser\", \"horizontal_laser\", \"bomb\"], seed)\n",
    "    # board.board[0] = deepcopy(arr)\n",
    "    # board.board[1] = np.ones_like(arr)\n",
    "    return board\n",
    "\n",
    "\n",
    "def create_alternating_board(height: int, width: int) -> Board:\n",
    "    arr = create_alternating_array(height, width)\n",
    "    return create_board_from_array(arr)\n",
    "\n",
    "\n",
    "def contains_threes(arr: np.ndarray) -> bool:\n",
    "    rows, cols = arr.shape\n",
    "    for i in range(rows):\n",
    "        for j in range(cols):\n",
    "            if j < cols - 2 and arr[0, i, j] == arr[0, i, j + 1] == arr[0, i, j + 2] != 0:\n",
    "                return True\n",
    "            if i < rows - 2 and arr[0, i, j] == arr[0, i + 1, j] == arr[0, i + 2, j] !=0:\n",
    "                return True\n",
    "    return False\n",
    "\n",
    "\n",
    "def wipe_coords(board: Board, coords: List[Tuple[int, int]]) -> np.ndarray:    \n",
    "    for coord in coords:\n",
    "        board.board[:, coord[0], coord[1]] *= 0\n",
    "\n",
    "\n",
    "def get_special_locations(board: Board) -> List[Tuple[int, int]]:\n",
    "    locations = []\n",
    "    for i in range(board.num_rows):\n",
    "        for j in range(board.num_cols):\n",
    "            if board.board[1, i, j] not in [0, 1]:\n",
    "                locations.append((i, j))\n",
    "    return locations\n"
   ]
  },
  {
   "cell_type": "code",
   "execution_count": 3,
   "metadata": {},
   "outputs": [
    {
     "name": "stdout",
     "output_type": "stream",
     "text": [
      "[[[ 8  2  9  4  5]\n",
      "  [ 1  9 10  6  8]\n",
      "  [ 4  6 11  4  9]\n",
      "  [12 11  3  4  6]\n",
      "  [ 8 10  8  7  8]\n",
      "  [12  1  6  6  2]\n",
      "  [ 4  1 12  9 12]]\n",
      "\n",
      " [[ 1  1  1  1  1]\n",
      "  [ 1  1  1  1  1]\n",
      "  [ 1  1  1  1  1]\n",
      "  [ 1  1  1  1  1]\n",
      "  [ 1  1  1  1  1]\n",
      "  [ 1  1  1  1  1]\n",
      "  [ 1  1  1  1  1]]]\n"
     ]
    }
   ],
   "source": [
    "import numpy as np\n",
    "from tile_match_gym.board import Board\n",
    "from copy import deepcopy\n",
    "\n",
    "\n",
    "# 3 in a row and 3 in a col\n",
    "board = Board(10, 10, 5) \n",
    "board.board[0] = np.array([[4, 4, 5, 4, 2, 2, 6, 6, 3, 3],\n",
    "                            [3, 6, 3, 6, 3, 4, 5, 4, 2, 2],\n",
    "                            [6, 5, 6, 4, 6, 3, 4, 5, 2, 3],\n",
    "                            [2, 4, 6, 2, 3, 4, 6, 3, 4, 3],\n",
    "                            [2, 5, 2, 3, 4, 4, 2, 6, 5, 6],\n",
    "                            [4, 5, 3, 4, 6, 3, 5, 2, 5, 6],\n",
    "                            [4, 4, 3, 2, 4, 5, 4, 5, 3, 5],\n",
    "                            [5, 6, 4, 2, 5, 4, 6, 4, 3, 2],\n",
    "                            [4, 5, 5, 6, 3, 4, 6, 3, 5, 6],\n",
    "                            [4, 4, 5, 4, 6, 5, 2, 2, 4, 6]])\n",
    "\n",
    "old_board = deepcopy(board.board)\n",
    "assert board.check_move_validity((1,1), (1, 2))\n",
    "assert board.check_move_validity((1,1), (2, 1))\n",
    "assert np.array_equal(board.board, old_board)\n",
    "\n",
    "# 3 in a col\n",
    "board = Board(4, 3, 4)\n",
    "board.board[0] = np.array([[2, 4, 3],\n",
    "                           [2, 1, 3],\n",
    "                           [1, 3, 1],\n",
    "                           [1, 4, 1]])\n",
    "\n",
    "old_board = deepcopy(board.board)\n",
    "assert board.check_move_validity((2, 1), (2, 2))\n",
    "assert np.array_equal(board.board, old_board)\n",
    "assert board.check_move_validity((1, 1), (1, 0))\n",
    "assert np.array_equal(board.board, old_board)\n",
    "assert board.check_move_validity((1, 1), (1, 2))\n",
    "assert np.array_equal(board.board, old_board)\n",
    "\n",
    "# 3 in a col with special.\n",
    "board.board[1] = np.array([[1, 1, 1],\n",
    "                           [2, 1, 3],\n",
    "                           [1, 1, 1],\n",
    "                           [1, 1, 2]])\n",
    "\n",
    "old_board = deepcopy(board.board)\n",
    "assert board.check_move_validity((2, 1), (2, 2))\n",
    "assert np.array_equal(board.board, old_board)\n",
    "\n",
    "\n",
    "# 4 in a row with special\n",
    "board = Board(4, 5, 5)\n",
    "board.board[0] = np.array([[1, 2, 2, 3, 4],\n",
    "                           [1, 2, 1, 2, 4],\n",
    "                           [4, 4, 1, 4, 2],\n",
    "                           [1, 1, 4, 3, 2]]) \n",
    "\n",
    "board.board[1] = np.array([[1, 1, 1, 1, 1],\n",
    "                           [1, 1, 1, 1, 1],\n",
    "                           [1, 3, 1, 1, 1],\n",
    "                           [1, 1, 2, 1, 1]]) \n",
    "old_board = deepcopy(board.board)\n",
    "assert board.check_move_validity((2, 2), (3, 2))\n",
    "assert np.array_equal(board.board, old_board)\n",
    "\n",
    "# 4 in a column\n",
    "board.board[0] = np.array([[1, 2, 2, 3, 4],\n",
    "                           [1, 2, 1, 2, 4],\n",
    "                           [4, 4, 2, 4, 2],\n",
    "                           [1, 2, 3, 3, 2]]) \n",
    "\n",
    "board.board[1] = np.array([[1, 1, 1, 1, 1],\n",
    "                           [1, 1, 1, 1, 1],\n",
    "                           [1, 3, 1, 1, 1],\n",
    "                           [1, 3, 2, 1, 1]]) \n",
    "\n",
    "old_board = deepcopy(board.board)\n",
    "assert board.check_move_validity((2, 1), (2, 2))\n",
    "assert np.array_equal(board.board, old_board)\n",
    "\n",
    "# 5 in a col\n",
    "board = Board(5, 5, 7, seed=2)  # cookie , and vertical lase, horizontal laser, bomb\n",
    "\n",
    "board.board[0] = np.array([[1, 2, 3, 3, 4],\n",
    "                           [1, 2, 3, 2, 4],\n",
    "                           [4, 4, 2, 3, 2],\n",
    "                           [1, 2, 3, 2, 2],\n",
    "                           [1, 2, 3, 1, 2]]) \n",
    "\n",
    "board.board[1] = np.array([[1, 1, 1, 2, 1],\n",
    "                           [1, 1, 1, 1, 1],\n",
    "                           [1, 3, 1, 1, 1],\n",
    "                           [1, 3, 2, 1, 1],\n",
    "                           [1, 2, 3, 3, 2]])\n",
    "old_board = deepcopy(board.board)\n",
    "assert board.check_move_validity((2, 3), (2, 2))\n",
    "assert np.array_equal(board.board, old_board)\n",
    "\n",
    "# Cookie + special\n",
    "board = Board(7, 5, 12, seed=3)\n",
    "print(board.board)\n",
    "board.board[0] = np.array([[8, 2, 9, 4, 5], \n",
    "                           [1, 9, 10, 6, 8], \n",
    "                           [4, 6, 11, 4, 9], \n",
    "                           [12, 11, 3, 4, 6], \n",
    "                           [8, 10, 8, 7, 8], \n",
    "                           [12, 1, 6, 6, 2], \n",
    "                           [4, 1, 12, 9, 12]])\n",
    "\n",
    "board.board[1] = np.array([[1, 1, 1, 1, 1], \n",
    "                           [1, 1, 1, 1, 1], \n",
    "                           [1, 1, 1, 1, 1], \n",
    "                           [1, 1, 3, 1, 1], \n",
    "                           [1, 1, -1, 1, 1], \n",
    "                           [1, 1, 1, 1, 1], \n",
    "                           [1, 1, 1, 1, 1]])\n",
    "board.board[0, 4, 2] = 0\n",
    "old_board = deepcopy(board.board)\n",
    "assert board.check_move_validity((3, 2), (4, 2))\n",
    "assert np.array_equal(board.board, old_board)\n",
    "\n",
    "\n",
    "# Cookie + normal\n",
    "board.board[0, 4, 2] = 8\n",
    "board.board[0, 0, 0] = 0\n",
    "board.board[1] = np.array([[-1, 1, 1, 1, 1], \n",
    "                           [1, 1, 1, 1, 1], \n",
    "                           [1, 1, 1, 1, 1], \n",
    "                           [1, 1, 1, 1, 1], \n",
    "                           [1, 1, 1, 1, 1], \n",
    "                           [1, 1, 1, 1, 1], \n",
    "                           [1, 1, 1, 1, 1]])\n",
    "\n",
    "old_board = deepcopy(board.board)\n",
    "assert board.check_move_validity((0, 0), (0, 1))\n",
    "assert board.check_move_validity((0, 0), (1, 0))\n",
    "assert np.array_equal(board.board, old_board)\n",
    "\n",
    "\n",
    "# Cookie + cookie\n",
    "board.board[0, 0, 0] = 8\n",
    "board.board[0, 6, 4] = 0\n",
    "board.board[0, 6, 3] = 0\n",
    "\n",
    "board.board[1] = np.array([[-1, 1, 1, 1, 1], \n",
    "                           [1, 1, 1, 1, 1], \n",
    "                           [1, 1, 1, 1, 1], \n",
    "                           [1, 1, 1, 1, 1], \n",
    "                           [1, 1, 1, 1, 1], \n",
    "                           [1, 1, 1, 1, 1], \n",
    "                           [1, 1, 1, -1, -1]])\n",
    "\n",
    "old_board = deepcopy(board.board)\n",
    "assert board.check_move_validity((6, 4), (6, 3))\n",
    "assert np.array_equal(board.board, old_board)\n",
    "\n",
    "\n",
    "# Not adjacent\n",
    "assert not board.check_move_validity((0, 0), (0, 2))\n",
    "assert not board.check_move_validity((2, 3), (3, 4))\n",
    "assert not board.check_move_validity((0, 0), (6, 5))\n",
    "\n",
    "# Same coordinate\n",
    "assert not board.check_move_validity((0, 0), (0, 0))\n",
    "assert not board.check_move_validity((3, 3), (3, 3))\n"
   ]
  },
  {
   "cell_type": "code",
   "execution_count": 64,
   "metadata": {},
   "outputs": [],
   "source": [
    "def process_combination(combination):\n",
    "    count_s, count_s_, count_m = 0, 0, 0\n",
    "    b = Board(4, 4, 3,[], [])\n",
    "    b.board = np.array(combination).reshape(4, 4)\n",
    "    no_poss_move = not b.possible_move()\n",
    "    has_match = len(b.get_colour_lines()) > 0\n",
    "    if has_match or no_poss_move:\n",
    "        count_s = 1\n",
    "    if not has_match and no_poss_move:\n",
    "        count_s_= 1\n",
    "    if has_match:\n",
    "        count_m = 1\n",
    "\n",
    "    return count_s, count_s_, count_m"
   ]
  },
  {
   "cell_type": "code",
   "execution_count": 65,
   "metadata": {},
   "outputs": [
    {
     "name": "stdout",
     "output_type": "stream",
     "text": [
      "8426718 57420 34562583\n"
     ]
    }
   ],
   "source": [
    "num_invalid_s, num_valid_states_no_move, num_states_w_move_and_match = 0, 0, 0\n",
    "with Pool() as pool:\n",
    "    results = pool.map(process_combination, x)\n",
    "\n",
    "    # Aggregate results from parallel processes\n",
    "\n",
    "    for result in results:\n",
    "        num_invalid_s += result[0]\n",
    "        num_valid_states_no_move += result[1]\n",
    "        num_states_w_move_and_match += result[2]\n",
    "\n",
    "print(len(x) - num_invalid_s, num_valid_states_no_move, num_states_w_move_and_match)"
   ]
  },
  {
   "cell_type": "code",
   "execution_count": 45,
   "metadata": {},
   "outputs": [
    {
     "data": {
      "text/plain": [
       "531441"
      ]
     },
     "execution_count": 45,
     "metadata": {},
     "output_type": "execute_result"
    }
   ],
   "source": [
    "len(x)"
   ]
  },
  {
   "cell_type": "code",
   "execution_count": 41,
   "metadata": {},
   "outputs": [
    {
     "data": {
      "text/plain": [
       "13303"
      ]
     },
     "execution_count": 41,
     "metadata": {},
     "output_type": "execute_result"
    }
   ],
   "source": [
    "count_s"
   ]
  },
  {
   "cell_type": "code",
   "execution_count": 33,
   "metadata": {},
   "outputs": [
    {
     "data": {
      "text/plain": [
       "6377"
      ]
     },
     "execution_count": 33,
     "metadata": {},
     "output_type": "execute_result"
    }
   ],
   "source": [
    "count_s_"
   ]
  },
  {
   "cell_type": "code",
   "execution_count": 34,
   "metadata": {},
   "outputs": [
    {
     "data": {
      "text/plain": [
       "2458"
      ]
     },
     "execution_count": 34,
     "metadata": {},
     "output_type": "execute_result"
    }
   ],
   "source": [
    "count_m"
   ]
  },
  {
   "cell_type": "code",
   "execution_count": 20,
   "metadata": {},
   "outputs": [
    {
     "data": {
      "text/plain": [
       "6380"
      ]
     },
     "execution_count": 20,
     "metadata": {},
     "output_type": "execute_result"
    }
   ],
   "source": [
    "count_poss"
   ]
  },
  {
   "cell_type": "code",
   "execution_count": 21,
   "metadata": {},
   "outputs": [],
   "source": [
    "for i, combination in enumerate(x):\n",
    "    b = Board(3, 3, 3, [\"vertical_laser\"], [])\n",
    "    b.board = np.array(combination).reshape(3,3)\n",
    "    no_poss_move = not b.possible_move()\n",
    "    has_match = len(b.get_colour_lines()) > 0\n",
    "    if has_match or no_poss_move:\n",
    "        count_tot -= 1\n",
    "    if has_match:\n",
    "        count_m += 1\n",
    "    if not no_poss_move:\n",
    "        count_poss += 1\n",
    "\n",
    "    # if i % 1000 == 1:\n",
    "    #     print(i, count_m / i, count_poss / i, count_tot, b.board)\n",
    "\n",
    "    \n",
    "        \n",
    "\n",
    "\n",
    "    "
   ]
  },
  {
   "cell_type": "code",
   "execution_count": 7,
   "metadata": {},
   "outputs": [
    {
     "data": {
      "text/plain": [
       "10077696"
      ]
     },
     "execution_count": 7,
     "metadata": {},
     "output_type": "execute_result"
    }
   ],
   "source": [
    "valid_arr"
   ]
  },
  {
   "cell_type": "code",
   "execution_count": null,
   "metadata": {},
   "outputs": [],
   "source": [
    "\n",
    "board = Board(10, 10, 5)  # cookie , and vertical laser, horizontal laser, bomb\n",
    "board.board = np.array([[4, 4, 5, 4, 2, 2, 6, 6, 3, 3],\n",
    "                        [3, 6, 3, 6, 3, 4, 5, 4, 2, 2],\n",
    "                        [6, 5, 6, 4, 6, 3, 4, 5, 2, 3],\n",
    "                        [2, 4, 6, 2, 3, 4, 6, 3, 4, 3],\n",
    "                        [2, 5, 2, 3, 4, 4, 2, 6, 5, 6],\n",
    "                        [4, 5, 3, 4, 6, 3, 5, 2, 5, 6],\n",
    "                        [4, 4, 3, 2, 4, 5, 4, 5, 3, 5],\n",
    "                        [5, 6, 4, 2, 5, 4, 6, 4, 3, 2],\n",
    "                        [4, 5, 5, 6, 3, 4, 6, 3, 5, 6],\n",
    "                        [4, 4, 5, 4, 6, 5, 2, 2, 4, 6]])\n",
    "\n",
    "old_board = deepcopy(board.board)\n",
    "assert board.check_move_validity((1,1), (1, 2))\n",
    "assert board.check_move_validity((1,1), (2, 1))\n",
    "assert np.array_equal(board.board, old_board)"
   ]
  }
 ],
 "metadata": {
  "kernelspec": {
   "display_name": "venv",
   "language": "python",
   "name": "python3"
  },
  "language_info": {
   "codemirror_mode": {
    "name": "ipython",
    "version": 3
   },
   "file_extension": ".py",
   "mimetype": "text/x-python",
   "name": "python",
   "nbconvert_exporter": "python",
   "pygments_lexer": "ipython3",
   "version": "3.8.10"
  },
  "orig_nbformat": 4,
  "vscode": {
   "interpreter": {
    "hash": "acec314c2cac18a708074281f4b8a3eae7149b282c3c19c28090d8a8e9c34189"
   }
  }
 },
 "nbformat": 4,
 "nbformat_minor": 2
}
